{
 "cells": [
  {
   "cell_type": "code",
   "execution_count": 9,
   "id": "999dc15a-627a-4e28-9d11-9df779cb3ea3",
   "metadata": {},
   "outputs": [],
   "source": [
    "data_dir = \"/home/nick/Documents/GitHub/tweetscape-experiments/python/streams-mvp/data/current\"\n",
    "\n"
   ]
  },
  {
   "cell_type": "code",
   "execution_count": 12,
   "id": "570bcb2b-cebd-4dda-861a-44178121565f",
   "metadata": {},
   "outputs": [
    {
     "name": "stdout",
     "output_type": "stream",
     "text": [
      "/home/nick/Documents/GitHub/tweetscape-experiments/python/streams-mvp/data/current/following/ArtirKel_following.csv\n"
     ]
    }
   ],
   "source": [
    "import os \n",
    "import pandas as pd \n",
    "\n",
    "fpath = os.path.join(data_dir, \"following\", \"ArtirKel_following.csv\")\n",
    "fdf = pd.read_csv(fpath)"
   ]
  },
  {
   "cell_type": "code",
   "execution_count": 14,
   "id": "d21b0a83-d04b-41ee-a44c-bd86cc61cb06",
   "metadata": {},
   "outputs": [
    {
     "data": {
      "text/plain": [
       "Index(['id', 'created_at', 'username', 'name', 'description',\n",
       "       'entities.description.cashtags', 'entities.description.hashtags',\n",
       "       'entities.description.mentions', 'entities.description.urls',\n",
       "       'entities.url.urls', 'location', 'pinned_tweet_id', 'profile_image_url',\n",
       "       'protected', 'public_metrics.followers_count',\n",
       "       'public_metrics.following_count', 'public_metrics.listed_count',\n",
       "       'public_metrics.tweet_count', 'url', 'verified', 'withheld.scope',\n",
       "       'withheld.copyright', 'withheld.country_codes', '__twarc.retrieved_at',\n",
       "       '__twarc.url', '__twarc.version', 'Unnamed: 26', 'referencer.username'],\n",
       "      dtype='object')"
      ]
     },
     "execution_count": 14,
     "metadata": {},
     "output_type": "execute_result"
    }
   ],
   "source": [
    "fdf.columns"
   ]
  },
  {
   "cell_type": "code",
   "execution_count": 18,
   "id": "e6264adf-5a24-4d25-a22f-b2367edd6f5c",
   "metadata": {},
   "outputs": [
    {
     "data": {
      "text/plain": [
       "'[{\"start\": 0, \"end\": 23, \"url\": \"https://t.co/UuT7WVmd2S\", \"expanded_url\": \"http://generative.ink\", \"display_url\": \"generative.ink\"}]'"
      ]
     },
     "execution_count": 18,
     "metadata": {},
     "output_type": "execute_result"
    }
   ],
   "source": [
    "fdf[fdf[\"entities.url.urls\"].notna()].iloc[0][\"entities.url.urls\"]"
   ]
  },
  {
   "cell_type": "code",
   "execution_count": null,
   "id": "2b98ef6e-d1c6-4149-b9c1-65b5512fdc0d",
   "metadata": {},
   "outputs": [],
   "source": []
  }
 ],
 "metadata": {
  "kernelspec": {
   "display_name": "Python 3 (ipykernel)",
   "language": "python",
   "name": "python3"
  },
  "language_info": {
   "codemirror_mode": {
    "name": "ipython",
    "version": 3
   },
   "file_extension": ".py",
   "mimetype": "text/x-python",
   "name": "python",
   "nbconvert_exporter": "python",
   "pygments_lexer": "ipython3",
   "version": "3.10.0"
  }
 },
 "nbformat": 4,
 "nbformat_minor": 5
}
