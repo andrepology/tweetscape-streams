{
 "cells": [
  {
   "cell_type": "code",
   "execution_count": 8,
   "id": "ca8757c8-db13-495e-b5c2-0908144602bc",
   "metadata": {},
   "outputs": [
    {
     "name": "stderr",
     "output_type": "stream",
     "text": [
      "2022-09-07 10:56:05.332 INFO    twarc: creating user auth client\n"
     ]
    }
   ],
   "source": [
    "import os\n",
    "from twarc import Twarc2\n",
    "from dotenv import load_dotenv\n",
    "\n",
    "from twarc_csv import DataFrameConverter\n",
    "from tweet_processing import pull_tweets\n",
    "from py2neo import Node, Relationship, Graph\n",
    "\n",
    "\n",
    "\n",
    "load_dotenv()\n",
    "\n",
    "\n",
    "twarc_client = Twarc2(\n",
    "    consumer_key=os.environ[\"consumer_key\"],\n",
    "    consumer_secret=os.environ[\"consumer_secret\"],\n",
    "    access_token=os.environ[\"access_token\"],\n",
    "    access_token_secret=os.environ[\"access_token_secret\"],\n",
    ")"
   ]
  },
  {
   "cell_type": "code",
   "execution_count": 40,
   "id": "f2728383-4418-48a3-9950-e27cd0b788e7",
   "metadata": {},
   "outputs": [
    {
     "data": {
      "text/plain": [
       "'2021.2.3'"
      ]
     },
     "execution_count": 40,
     "metadata": {},
     "output_type": "execute_result"
    }
   ],
   "source": [
    "from py2neo import ServiceProfile\n",
    "import py2neo\n",
    "py2neo.__version__"
   ]
  },
  {
   "cell_type": "code",
   "execution_count": 44,
   "id": "f3b72e96-5afe-4182-84ff-5dfb63d51fda",
   "metadata": {},
   "outputs": [
    {
     "data": {
      "text/plain": [
       "Node('TwitterUser', created_at='2016-11-29T20:14:22.000Z', description='everywhere I go, there I am | building @TweetscapeHQ | hanging @roote_ | writing https://t.co/PBxsLBeEAO | reading https://t.co/n6w8cS8mcD', id='803693608419422209', location='Philadelphia, PA', name='Nick Torba', pinned_tweet_id='1499774239922130946', profile_image_url='https://pbs.twimg.com/profile_images/1375548941538750465/kjPxgiWX_normal.jpg', protected=False, url='https://t.co/C8yIPStHx3', username='nicktorba', verified=False, **{'entities.description.cashtags': nan, 'entities.description.hashtags': nan, 'entities.description.mentions': '[{\"start\": 39, \"end\": 52, \"username\": \"TweetscapeHQ\"}, {\"start\": 63, \"end\": 70, \"username\": \"roote_\"}]', 'entities.description.urls': '[{\"start\": 81, \"end\": 104, \"url\": \"https://t.co/PBxsLBeEAO\", \"expanded_url\": \"http://cultivatingtaste.substack.com\", \"display_url\": \"cultivatingtaste.substack.com\"}, {\"start\": 115, \"end\": 138, \"url\": \"https://t.co/n6w8cS8mcD\", \"expanded_url\": \"http://getmatter.app/torba\", \"display_url\": \"getmatter.app/torba\"}]', 'entities.url.urls': '[{\"start\": 0, \"end\": 23, \"url\": \"https://t.co/C8yIPStHx3\", \"expanded_url\": \"http://nicktorba.com\", \"display_url\": \"nicktorba.com\"}]', 'public_metrics.followers_count': 274, 'public_metrics.following_count': 540, 'public_metrics.listed_count': 8, 'public_metrics.tweet_count': 4100})"
      ]
     },
     "execution_count": 44,
     "metadata": {},
     "output_type": "execute_result"
    }
   ],
   "source": [
    "graph.nodes.match(\"TwitterUser\", username=\"nicktorba\").first()"
   ]
  },
  {
   "cell_type": "code",
   "execution_count": 38,
   "id": "daaf0177-b601-469e-bdf2-da18af881c55",
   "metadata": {},
   "outputs": [],
   "source": [
    "graph = Graph(\n",
    "        profile=ServiceProfile(\n",
    "            scheme=\"neo4j+s\",\n",
    "            host=\"95c16721.databases.neo4j.io\",\n",
    "        ),\n",
    "        auth=(os.getenv(\"NEO4J_USERNAME\"), os.getenv(\"NEO4J_PASSWORD\")))"
   ]
  },
  {
   "cell_type": "code",
   "execution_count": 42,
   "id": "94a6658f-efe1-4c0d-bad9-4e0bd9a83f0f",
   "metadata": {},
   "outputs": [
    {
     "name": "stdout",
     "output_type": "stream",
     "text": [
      "('neo4j', 'oqutQwHMkKOL3DTn7lwWGQJ1fS61_wtLzfzANMVgvOM')\n"
     ]
    }
   ],
   "source": [
    "print((os.getenv(\"NEO4J_USERNAME\"), os.getenv(\"NEO4J_PASSWORD\")))"
   ]
  },
  {
   "cell_type": "code",
   "execution_count": 39,
   "id": "8aaaa07f-0b02-4c37-9123-7d4ae6d1e3b0",
   "metadata": {},
   "outputs": [
    {
     "data": {
      "text/plain": [
       "[Node('Stream', createdAt='2022-09-07T16:01:01Z', end_time='2022-09-07T16:01:01Z', name='stream1', start_time='2022-08-31T16:01:01Z'),\n",
       " Node('Stream', createdAt='2022-09-07T16:01:01Z', end_time='2022-09-07T16:01:01Z', name='stream2', start_time='2022-08-31T16:01:01Z')]"
      ]
     },
     "execution_count": 39,
     "metadata": {},
     "output_type": "execute_result"
    }
   ],
   "source": [
    "graph.nodes.match(\"Stream\").all()"
   ]
  },
  {
   "cell_type": "code",
   "execution_count": 28,
   "id": "480922e2-b3ad-4925-8e99-0528739c86bb",
   "metadata": {},
   "outputs": [
    {
     "data": {
      "text/plain": [
       "'2021.2.3'"
      ]
     },
     "execution_count": 28,
     "metadata": {},
     "output_type": "execute_result"
    }
   ],
   "source": [
    "import py2neo\n",
    "py2neo.__version__"
   ]
  },
  {
   "cell_type": "code",
   "execution_count": 26,
   "id": "32a45b39-5047-40f1-a151-d1eb68c4eaac",
   "metadata": {},
   "outputs": [
    {
     "data": {
      "text/plain": [
       "'neo4j+s://95c16721.databases.neo4j.io'"
      ]
     },
     "execution_count": 26,
     "metadata": {},
     "output_type": "execute_result"
    }
   ],
   "source": [
    "os.getenv(\"NEO4J_URI\")"
   ]
  },
  {
   "cell_type": "code",
   "execution_count": 27,
   "id": "4fa86805-41e2-49d6-89c5-b1d659b67b79",
   "metadata": {},
   "outputs": [],
   "source": [
    "graph = Graph(os.getenv(\"NEO4J_URI\"), auth=(os.getenv(\"NEO4J_USERNAME\"), os.getenv(\"NEO4J_PASSWORD\")))\n"
   ]
  },
  {
   "cell_type": "code",
   "execution_count": 10,
   "id": "f5ecdea6-6ee9-4e6b-951e-d4f60d7c3aea",
   "metadata": {
    "scrolled": true,
    "tags": []
   },
   "outputs": [
    {
     "name": "stderr",
     "output_type": "stream",
     "text": [
      "2022-09-07 10:56:30.901 INFO    twarc: getting ('https://api.twitter.com/2/users/by',) {'params': {'tweet.fields': 'attachments,author_id,context_annotations,conversation_id,created_at,entities,geo,id,in_reply_to_user_id,lang,public_metrics,text,possibly_sensitive,referenced_tweets,reply_settings,source,withheld', 'user.fields': 'created_at,description,entities,id,location,name,pinned_tweet_id,profile_image_url,protected,public_metrics,url,username,verified,withheld', 'usernames': 'nicktorba'}}\n"
     ]
    },
    {
     "name": "stdout",
     "output_type": "stream",
     "text": [
      "pulling tweets for user nicktorba\n"
     ]
    },
    {
     "name": "stderr",
     "output_type": "stream",
     "text": [
      "2022-09-07 10:56:31.151 INFO    twarc: getting ('https://api.twitter.com/2/users/803693608419422209/tweets',) {'params': {'expansions': 'author_id,in_reply_to_user_id,referenced_tweets.id,referenced_tweets.id.author_id,entities.mentions.username,attachments.poll_ids,attachments.media_keys,geo.place_id', 'tweet.fields': 'attachments,author_id,context_annotations,conversation_id,created_at,entities,geo,id,in_reply_to_user_id,lang,public_metrics,text,possibly_sensitive,referenced_tweets,reply_settings,source,withheld', 'user.fields': 'created_at,description,entities,id,location,name,pinned_tweet_id,profile_image_url,protected,public_metrics,url,username,verified,withheld', 'media.fields': 'alt_text,duration_ms,height,media_key,preview_image_url,type,url,width,public_metrics', 'poll.fields': 'duration_minutes,end_datetime,id,options,voting_status', 'place.fields': 'contained_within,country,country_code,full_name,geo,id,name,place_type', 'start_time': None, 'end_time': None, 'max_results': 100}}\n"
     ]
    },
    {
     "name": "stdout",
     "output_type": "stream",
     "text": [
      "printing dfs\n",
      "<class 'pandas.core.frame.DataFrame'>\n",
      "(100, 74)\n"
     ]
    }
   ],
   "source": [
    "username, df_tweets, df_ref_tweets = pull_tweets(twarc_client, seed_user, extract_features=True, max_tweets=50, start_time=None, end_time=None)\n"
   ]
  },
  {
   "cell_type": "code",
   "execution_count": 19,
   "id": "d2e2a7de-e274-4159-8cb4-03682401a874",
   "metadata": {},
   "outputs": [
    {
     "data": {
      "text/plain": [
       "Timestamp('2022-07-28 17:14:35+0000', tz='UTC')"
      ]
     },
     "execution_count": 19,
     "metadata": {},
     "output_type": "execute_result"
    }
   ],
   "source": [
    "df_tweets[\"created_at\"].min()"
   ]
  },
  {
   "cell_type": "code",
   "execution_count": 20,
   "id": "20e2cc39-3504-4766-b18f-9231f37d7a4c",
   "metadata": {},
   "outputs": [
    {
     "data": {
      "text/plain": [
       "(100, 80)"
      ]
     },
     "execution_count": 20,
     "metadata": {},
     "output_type": "execute_result"
    }
   ],
   "source": [
    "df_tweets.shape"
   ]
  },
  {
   "cell_type": "code",
   "execution_count": 6,
   "id": "012cc3d2-ad46-4efe-a383-9eee07da48eb",
   "metadata": {},
   "outputs": [
    {
     "name": "stdout",
     "output_type": "stream",
     "text": [
      "\n",
      "MATCH (followedUsers:TwitterUser )<-[f:FOLLOWS]-(follower:TwitterUser {username: 'nicktorba'})\n",
      "RETURN followedUsers\n",
      "\n"
     ]
    }
   ],
   "source": [
    "seed_user=\"nicktorba\"\n",
    "seed_user_following_query = f\"\"\"\n",
    "MATCH (followedUsers:TwitterUser )<-[f:FOLLOWS]-(follower:TwitterUser {{username: '{seed_user}'}})\n",
    "RETURN followedUsers\n",
    "\"\"\"\n",
    "print(seed_user_following_query)\n",
    "r = graph.run(seed_user_following_query)\n",
    "d = r.data()"
   ]
  },
  {
   "cell_type": "code",
   "execution_count": null,
   "id": "28dc337f-c8c1-4c18-b7bd-cab9b82736ab",
   "metadata": {},
   "outputs": [],
   "source": [
    "d[0]"
   ]
  },
  {
   "cell_type": "code",
   "execution_count": null,
   "id": "9749a9ac-7b4b-4069-a9ca-5232f0292278",
   "metadata": {},
   "outputs": [],
   "source": [
    "seed_user = \"nicktorba\"\n",
    "seed_user_following_query = f\"\"\"\n",
    "MATCH (followedUsers:TwitterUser )<-[:FOLLOWS]-(follower:TwitterUser {{username: '{seed_user}'}})\n",
    "RETURN followedUsers\n",
    "\"\"\"\n",
    "\n",
    "seed_user_following = graph.run(seed_user_following_query)\n",
    "d = seed_user_following.data()"
   ]
  },
  {
   "cell_type": "code",
   "execution_count": null,
   "id": "e50f900e-9c43-4fd0-840d-b5e5bfea70f1",
   "metadata": {},
   "outputs": [],
   "source": [
    "d[0]"
   ]
  },
  {
   "cell_type": "code",
   "execution_count": null,
   "id": "589bfd2b-1b86-48bc-8b32-107b12d4fd55",
   "metadata": {},
   "outputs": [],
   "source": [
    "username = \"howpsychedelics\"\n",
    "dups = []\n",
    "for i in d:\n",
    "    if i[\"followedUsers\"].get(\"username\") == username:\n",
    "        dups.append(i[\"followedUsers\"])\n",
    "                    \n",
    "dups"
   ]
  },
  {
   "cell_type": "code",
   "execution_count": null,
   "id": "5af2966a-5a7a-4a47-966f-0de873af4fe1",
   "metadata": {},
   "outputs": [],
   "source": [
    "x= \"nicktorba\"\n",
    "query = f\"\"\"\n",
    "MATCH (:TwitterUser {{username: '{x}'}})-->(followed:TwitterUser)\n",
    "RETURN followed\n",
    "\"\"\"\n",
    "print(query)"
   ]
  },
  {
   "cell_type": "code",
   "execution_count": null,
   "id": "80189244-9d57-4fb2-b17d-083879c33cc8",
   "metadata": {},
   "outputs": [],
   "source": []
  },
  {
   "cell_type": "code",
   "execution_count": null,
   "id": "248a18e6-4ab0-43f9-bab5-9f144195f851",
   "metadata": {
    "scrolled": true,
    "tags": []
   },
   "outputs": [],
   "source": [
    "d[0].keys()"
   ]
  },
  {
   "cell_type": "code",
   "execution_count": null,
   "id": "647abffa-ca64-4822-ae70-8869c09ba073",
   "metadata": {},
   "outputs": [],
   "source": [
    "d[0][\"followedUsers\"]"
   ]
  },
  {
   "cell_type": "code",
   "execution_count": null,
   "id": "4933ba44-ceac-4582-b507-f4641acd17b0",
   "metadata": {},
   "outputs": [],
   "source": [
    "d = r.data()\n",
    "type(d)"
   ]
  },
  {
   "cell_type": "code",
   "execution_count": null,
   "id": "df299f77-02bb-42d9-aba8-fb999faadfde",
   "metadata": {},
   "outputs": [],
   "source": [
    "d[0]"
   ]
  },
  {
   "cell_type": "code",
   "execution_count": null,
   "id": "09a866d0-3032-42b4-89b6-105752f2b06d",
   "metadata": {},
   "outputs": [],
   "source": [
    "dir(r)"
   ]
  },
  {
   "cell_type": "code",
   "execution_count": null,
   "id": "83b9168b-b43b-4927-afe3-98b47a9fb1bc",
   "metadata": {},
   "outputs": [],
   "source": [
    "# rel = graph.match((nt_user, ), r_type=\"FOLLOWS\").all()"
   ]
  },
  {
   "cell_type": "code",
   "execution_count": 21,
   "id": "53a2d5a5-04e2-4c30-aea9-845235e82400",
   "metadata": {},
   "outputs": [],
   "source": [
    "r = graph.nodes.match(\"Stream\").all()\n"
   ]
  },
  {
   "cell_type": "code",
   "execution_count": 24,
   "id": "1980a1a2-405c-480b-9232-64d92b6f9539",
   "metadata": {},
   "outputs": [
    {
     "data": {
      "text/plain": [
       "Node('Stream', createdAt='2022-09-07T16:01:01Z', end_time='2022-09-07T16:01:01Z', name='stream1', start_time='2022-08-31T16:01:01Z')"
      ]
     },
     "execution_count": 24,
     "metadata": {},
     "output_type": "execute_result"
    }
   ],
   "source": [
    "r[0]"
   ]
  },
  {
   "cell_type": "code",
   "execution_count": null,
   "id": "d8863289-41ec-4ce1-8f01-b2f4d4394655",
   "metadata": {},
   "outputs": [],
   "source": [
    "rel.end_node[\"username\"]"
   ]
  },
  {
   "cell_type": "code",
   "execution_count": null,
   "id": "84f07bca-fb18-4bc0-b8bd-dd9532a3e9e6",
   "metadata": {},
   "outputs": [],
   "source": [
    "query = \"\"\"\n",
    "MATCH (:TwitterUser {name: 'nicktorba'})-[:FOLLOWS]->(user)\n",
    "RETURN user\n",
    "\"\"\"\n",
    "r = graph.run(query)\n",
    "r"
   ]
  },
  {
   "cell_type": "code",
   "execution_count": null,
   "id": "a9dc7758-eecf-4505-8b6c-1137c36161e0",
   "metadata": {},
   "outputs": [],
   "source": [
    "type(r)"
   ]
  },
  {
   "cell_type": "code",
   "execution_count": null,
   "id": "e7a2cac5-f950-48e8-96cb-0c70376cb330",
   "metadata": {},
   "outputs": [],
   "source": [
    "graph.run(\"MATCH (c:TwitterUser) RETURN c.username\")"
   ]
  },
  {
   "cell_type": "code",
   "execution_count": null,
   "id": "e350a325-47ea-4ba0-b292-3adf66556fda",
   "metadata": {},
   "outputs": [],
   "source": [
    "nt_user = graph.nodes.match(\"TwitterUser\", username=\"nicktorba\").first()\n",
    "\n",
    "follows = []\n",
    "for rel in graph.match((nt_user, ), r_type=\"FOLLOWS\"):\n",
    "    print(rel.end_node[\"username\"])\n",
    "    follows.append(rel.end_node[\"username\"])\n",
    "len(follows)"
   ]
  },
  {
   "cell_type": "code",
   "execution_count": null,
   "id": "39865d74-1bff-461f-87bb-c3a62dfb7295",
   "metadata": {},
   "outputs": [],
   "source": [
    "graph.nodes.match(\"TwitterUser\").all()"
   ]
  },
  {
   "cell_type": "code",
   "execution_count": null,
   "id": "23cd3c70-8775-4d44-bf97-19b6689f53ad",
   "metadata": {},
   "outputs": [],
   "source": []
  }
 ],
 "metadata": {
  "kernelspec": {
   "display_name": "Python 3 (ipykernel)",
   "language": "python",
   "name": "python3"
  },
  "language_info": {
   "codemirror_mode": {
    "name": "ipython",
    "version": 3
   },
   "file_extension": ".py",
   "mimetype": "text/x-python",
   "name": "python",
   "nbconvert_exporter": "python",
   "pygments_lexer": "ipython3",
   "version": "3.10.0"
  }
 },
 "nbformat": 4,
 "nbformat_minor": 5
}
